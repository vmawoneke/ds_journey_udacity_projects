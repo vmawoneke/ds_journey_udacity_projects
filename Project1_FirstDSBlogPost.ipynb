{
 "cells": [
  {
   "cell_type": "markdown",
   "id": "503a4cf4",
   "metadata": {},
   "source": [
    "# __A peak at Spotify's top 100__"
   ]
  },
  {
   "cell_type": "markdown",
   "id": "f8d49495",
   "metadata": {},
   "source": [
    "\n",
    "In this project we shall analyse the Top 100 songs of each year on Spotify from 2009 to 2021. The Big goal of this project is to answer the question, \"What does it take to make it to Spotify's Top 100 list?\"\n",
    "These are the 3 business questions we seek to ask and answer:\n",
    "* What genre mostly makes it to Spotify's top 100\n",
    "* What are the main indicators that a song will make it to Spotify's Top 100?\n",
    "* Can we use the indicators identified to predict the performance of new music genres?\n",
    "\n",
    "\n",
    "__Context of the Data__\n",
    "\n",
    "Column Name | Column Description\n",
    "-----------------|------------------------\n",
    "title|Song's Title\n",
    "artist|Song's artist\n",
    "genre|Genre of song\n",
    "year |released\tYear the song was released\n",
    "added\t|Day song was added to Spotify's Top Hits playlist\n",
    "bpm\t|Beats Per Minute - The tempo of the song\n",
    "nrgy\t|Energy - How energetic the song is\n",
    "dnce\t|Danceability - How easy it is to dance to the song\n",
    "dB\t|Decibel - How loud the song is\n",
    "live\t|How likely the song is a live recording\n",
    "val\t|How positive the mood of the song is\n",
    "dur\t|Duration of the song\n",
    "acous\t|How acoustic the song is\n",
    "spch\t|The more the song is focused on spoken word\n",
    "pop\t|Popularity of the song (not a ranking)\n",
    "top year|Year the song was a top hit|\n",
    "artist type|\tTells if artist is solo, duo, trio, or a band\n",
    "\n",
    "\n",
    "\n",
    "Data obtained from https://www.kaggle.com/datasets/muhmores/spotify-top-100-songs-of-20152019\n",
    "\n",
    "Articles & Works Cited\n",
    "https://www.washingtonpost.com/news/to-your-health/wp/2015/10/30/the-mathematical-formula-behind-feel-good-songs/\n",
    "https://towardsdatascience.com/crisp-dm-methodology-for-your-first-data-science-project-769f35e0346c\n",
    "https://www.kaggle.com/code/jkanthony/spotify-top-hit-songs-fix-the-data-and-eda"
   ]
  },
  {
   "cell_type": "code",
   "execution_count": 2,
   "id": "8b83cc04",
   "metadata": {
    "scrolled": true
   },
   "outputs": [
    {
     "data": {
      "text/html": [
       "<div>\n",
       "<style scoped>\n",
       "    .dataframe tbody tr th:only-of-type {\n",
       "        vertical-align: middle;\n",
       "    }\n",
       "\n",
       "    .dataframe tbody tr th {\n",
       "        vertical-align: top;\n",
       "    }\n",
       "\n",
       "    .dataframe thead th {\n",
       "        text-align: right;\n",
       "    }\n",
       "</style>\n",
       "<table border=\"1\" class=\"dataframe\">\n",
       "  <thead>\n",
       "    <tr style=\"text-align: right;\">\n",
       "      <th></th>\n",
       "      <th>title</th>\n",
       "      <th>artist</th>\n",
       "      <th>top genre</th>\n",
       "      <th>year released</th>\n",
       "      <th>added</th>\n",
       "      <th>bpm</th>\n",
       "      <th>nrgy</th>\n",
       "      <th>dnce</th>\n",
       "      <th>dB</th>\n",
       "      <th>live</th>\n",
       "      <th>val</th>\n",
       "      <th>dur</th>\n",
       "      <th>acous</th>\n",
       "      <th>spch</th>\n",
       "      <th>pop</th>\n",
       "      <th>top year</th>\n",
       "      <th>artist type</th>\n",
       "    </tr>\n",
       "  </thead>\n",
       "  <tbody>\n",
       "    <tr>\n",
       "      <th>0</th>\n",
       "      <td>STARSTRUKK (feat. Katy Perry)</td>\n",
       "      <td>3OH!3</td>\n",
       "      <td>dance pop</td>\n",
       "      <td>2009.0</td>\n",
       "      <td>2022‑02‑17</td>\n",
       "      <td>140.0</td>\n",
       "      <td>81.0</td>\n",
       "      <td>61.0</td>\n",
       "      <td>-6.0</td>\n",
       "      <td>23.0</td>\n",
       "      <td>23.0</td>\n",
       "      <td>203.0</td>\n",
       "      <td>0.0</td>\n",
       "      <td>6.0</td>\n",
       "      <td>70.0</td>\n",
       "      <td>2010.0</td>\n",
       "      <td>Duo</td>\n",
       "    </tr>\n",
       "    <tr>\n",
       "      <th>1</th>\n",
       "      <td>My First Kiss (feat. Ke$ha)</td>\n",
       "      <td>3OH!3</td>\n",
       "      <td>dance pop</td>\n",
       "      <td>2010.0</td>\n",
       "      <td>2022‑02‑17</td>\n",
       "      <td>138.0</td>\n",
       "      <td>89.0</td>\n",
       "      <td>68.0</td>\n",
       "      <td>-4.0</td>\n",
       "      <td>36.0</td>\n",
       "      <td>83.0</td>\n",
       "      <td>192.0</td>\n",
       "      <td>1.0</td>\n",
       "      <td>8.0</td>\n",
       "      <td>68.0</td>\n",
       "      <td>2010.0</td>\n",
       "      <td>Duo</td>\n",
       "    </tr>\n",
       "    <tr>\n",
       "      <th>2</th>\n",
       "      <td>I Need A Dollar</td>\n",
       "      <td>Aloe Blacc</td>\n",
       "      <td>pop soul</td>\n",
       "      <td>2010.0</td>\n",
       "      <td>2022‑02‑17</td>\n",
       "      <td>95.0</td>\n",
       "      <td>48.0</td>\n",
       "      <td>84.0</td>\n",
       "      <td>-7.0</td>\n",
       "      <td>9.0</td>\n",
       "      <td>96.0</td>\n",
       "      <td>243.0</td>\n",
       "      <td>20.0</td>\n",
       "      <td>3.0</td>\n",
       "      <td>72.0</td>\n",
       "      <td>2010.0</td>\n",
       "      <td>Solo</td>\n",
       "    </tr>\n",
       "    <tr>\n",
       "      <th>3</th>\n",
       "      <td>Airplanes (feat. Hayley Williams of Paramore)</td>\n",
       "      <td>B.o.B</td>\n",
       "      <td>atl hip hop</td>\n",
       "      <td>2010.0</td>\n",
       "      <td>2022‑02‑17</td>\n",
       "      <td>93.0</td>\n",
       "      <td>87.0</td>\n",
       "      <td>66.0</td>\n",
       "      <td>-4.0</td>\n",
       "      <td>4.0</td>\n",
       "      <td>38.0</td>\n",
       "      <td>180.0</td>\n",
       "      <td>11.0</td>\n",
       "      <td>12.0</td>\n",
       "      <td>80.0</td>\n",
       "      <td>2010.0</td>\n",
       "      <td>Solo</td>\n",
       "    </tr>\n",
       "    <tr>\n",
       "      <th>4</th>\n",
       "      <td>Nothin' on You (feat. Bruno Mars)</td>\n",
       "      <td>B.o.B</td>\n",
       "      <td>atl hip hop</td>\n",
       "      <td>2010.0</td>\n",
       "      <td>2022‑02‑17</td>\n",
       "      <td>104.0</td>\n",
       "      <td>85.0</td>\n",
       "      <td>69.0</td>\n",
       "      <td>-6.0</td>\n",
       "      <td>9.0</td>\n",
       "      <td>74.0</td>\n",
       "      <td>268.0</td>\n",
       "      <td>39.0</td>\n",
       "      <td>5.0</td>\n",
       "      <td>79.0</td>\n",
       "      <td>2010.0</td>\n",
       "      <td>Solo</td>\n",
       "    </tr>\n",
       "  </tbody>\n",
       "</table>\n",
       "</div>"
      ],
      "text/plain": [
       "                                           title      artist    top genre  \\\n",
       "0                  STARSTRUKK (feat. Katy Perry)       3OH!3    dance pop   \n",
       "1                    My First Kiss (feat. Ke$ha)       3OH!3    dance pop   \n",
       "2                                I Need A Dollar  Aloe Blacc     pop soul   \n",
       "3  Airplanes (feat. Hayley Williams of Paramore)       B.o.B  atl hip hop   \n",
       "4              Nothin' on You (feat. Bruno Mars)       B.o.B  atl hip hop   \n",
       "\n",
       "   year released       added    bpm  nrgy  dnce   dB  live   val    dur  \\\n",
       "0         2009.0  2022‑02‑17  140.0  81.0  61.0 -6.0  23.0  23.0  203.0   \n",
       "1         2010.0  2022‑02‑17  138.0  89.0  68.0 -4.0  36.0  83.0  192.0   \n",
       "2         2010.0  2022‑02‑17   95.0  48.0  84.0 -7.0   9.0  96.0  243.0   \n",
       "3         2010.0  2022‑02‑17   93.0  87.0  66.0 -4.0   4.0  38.0  180.0   \n",
       "4         2010.0  2022‑02‑17  104.0  85.0  69.0 -6.0   9.0  74.0  268.0   \n",
       "\n",
       "   acous  spch   pop  top year artist type  \n",
       "0    0.0   6.0  70.0    2010.0         Duo  \n",
       "1    1.0   8.0  68.0    2010.0         Duo  \n",
       "2   20.0   3.0  72.0    2010.0        Solo  \n",
       "3   11.0  12.0  80.0    2010.0        Solo  \n",
       "4   39.0   5.0  79.0    2010.0        Solo  "
      ]
     },
     "execution_count": 2,
     "metadata": {},
     "output_type": "execute_result"
    }
   ],
   "source": [
    "#Import the neccessary libraries \n",
    "import numpy as np\n",
    "import pandas as pd\n",
    "import matplotlib.pyplot as plt\n",
    "%matplotlib inline\n",
    "\n",
    "#download the data and read it as data frame\n",
    "df = pd.read_csv('Spotify 2010 - 2019 Top 100.csv')\n",
    "df.head()"
   ]
  },
  {
   "cell_type": "markdown",
   "id": "d018c340",
   "metadata": {},
   "source": [
    "_Describe the data_"
   ]
  },
  {
   "cell_type": "code",
   "execution_count": 4,
   "id": "3cb708f1",
   "metadata": {},
   "outputs": [],
   "source": [
    "num_rows = df.shape[0] #Provide the number of rows in the dataset\n",
    "num_cols = df.shape[1] #Provide the number of columns in the dataset\n"
   ]
  },
  {
   "cell_type": "code",
   "execution_count": 5,
   "id": "cfe2247b",
   "metadata": {},
   "outputs": [
    {
     "data": {
      "text/plain": [
       "1003"
      ]
     },
     "execution_count": 5,
     "metadata": {},
     "output_type": "execute_result"
    }
   ],
   "source": [
    "num_rows"
   ]
  },
  {
   "cell_type": "code",
   "execution_count": 6,
   "id": "895d08ed",
   "metadata": {},
   "outputs": [
    {
     "data": {
      "text/plain": [
       "17"
      ]
     },
     "execution_count": 6,
     "metadata": {},
     "output_type": "execute_result"
    }
   ],
   "source": [
    "num_cols"
   ]
  },
  {
   "cell_type": "code",
   "execution_count": 3,
   "id": "7e29d610",
   "metadata": {},
   "outputs": [
    {
     "data": {
      "text/plain": [
       "title            3\n",
       "artist           3\n",
       "top genre        3\n",
       "year released    3\n",
       "added            3\n",
       "bpm              3\n",
       "nrgy             3\n",
       "dnce             3\n",
       "dB               3\n",
       "live             3\n",
       "val              3\n",
       "dur              3\n",
       "acous            3\n",
       "spch             3\n",
       "pop              3\n",
       "top year         3\n",
       "artist type      3\n",
       "dtype: int64"
      ]
     },
     "execution_count": 3,
     "metadata": {},
     "output_type": "execute_result"
    }
   ],
   "source": [
    "df.isnull().sum()"
   ]
  },
  {
   "cell_type": "markdown",
   "id": "0a9f3944",
   "metadata": {},
   "source": [
    "3 bottom valyes are null in all columns, let's delete them"
   ]
  },
  {
   "cell_type": "code",
   "execution_count": 4,
   "id": "f6178539",
   "metadata": {},
   "outputs": [],
   "source": [
    "df = df.iloc[0:999]"
   ]
  },
  {
   "cell_type": "markdown",
   "id": "c56e436f",
   "metadata": {},
   "source": [
    "Data exploration"
   ]
  },
  {
   "cell_type": "code",
   "execution_count": 13,
   "id": "617d72f9",
   "metadata": {},
   "outputs": [],
   "source": [
    "#Convert year released and top year from float to int\n",
    "df['year released'] = df['year released'].astype('Int64')\n",
    "df['top year'] = df['top year'].astype('Int64')"
   ]
  },
  {
   "cell_type": "markdown",
   "id": "eb2a0f25",
   "metadata": {},
   "source": [
    "Data Quality"
   ]
  },
  {
   "cell_type": "code",
   "execution_count": 14,
   "id": "22e38ad2",
   "metadata": {},
   "outputs": [
    {
     "data": {
      "text/plain": [
       "year released\n",
       "2009     24\n",
       "2010     96\n",
       "2011     95\n",
       "2012    110\n",
       "2013     86\n",
       "2014    101\n",
       "2015     99\n",
       "2016     87\n",
       "2017     99\n",
       "2018    112\n",
       "2019     90\n",
       "Name: year released, dtype: int64"
      ]
     },
     "execution_count": 14,
     "metadata": {},
     "output_type": "execute_result"
    }
   ],
   "source": [
    "df.groupby('year released')['year released'].count()"
   ]
  },
  {
   "cell_type": "markdown",
   "id": "46d42fe2",
   "metadata": {},
   "source": [
    "There are some inconsistency with in the data, because some songs released year are written as 1975, 2020 and 2021. let's fix them."
   ]
  },
  {
   "cell_type": "code",
   "execution_count": 15,
   "id": "964388e5",
   "metadata": {},
   "outputs": [
    {
     "data": {
      "text/html": [
       "<div>\n",
       "<style scoped>\n",
       "    .dataframe tbody tr th:only-of-type {\n",
       "        vertical-align: middle;\n",
       "    }\n",
       "\n",
       "    .dataframe tbody tr th {\n",
       "        vertical-align: top;\n",
       "    }\n",
       "\n",
       "    .dataframe thead th {\n",
       "        text-align: right;\n",
       "    }\n",
       "</style>\n",
       "<table border=\"1\" class=\"dataframe\">\n",
       "  <thead>\n",
       "    <tr style=\"text-align: right;\">\n",
       "      <th></th>\n",
       "      <th>title</th>\n",
       "      <th>artist</th>\n",
       "      <th>top genre</th>\n",
       "      <th>year released</th>\n",
       "      <th>added</th>\n",
       "      <th>bpm</th>\n",
       "      <th>nrgy</th>\n",
       "      <th>dnce</th>\n",
       "      <th>dB</th>\n",
       "      <th>live</th>\n",
       "      <th>val</th>\n",
       "      <th>dur</th>\n",
       "      <th>acous</th>\n",
       "      <th>spch</th>\n",
       "      <th>pop</th>\n",
       "      <th>top year</th>\n",
       "      <th>artist type</th>\n",
       "    </tr>\n",
       "  </thead>\n",
       "  <tbody>\n",
       "  </tbody>\n",
       "</table>\n",
       "</div>"
      ],
      "text/plain": [
       "Empty DataFrame\n",
       "Columns: [title, artist, top genre, year released, added, bpm, nrgy, dnce, dB, live, val, dur, acous, spch, pop, top year, artist type]\n",
       "Index: []"
      ]
     },
     "execution_count": 15,
     "metadata": {},
     "output_type": "execute_result"
    }
   ],
   "source": [
    "df[df['year released']==1975]"
   ]
  },
  {
   "cell_type": "code",
   "execution_count": 16,
   "id": "3851749a",
   "metadata": {},
   "outputs": [
    {
     "data": {
      "text/plain": [
       "2011"
      ]
     },
     "execution_count": 16,
     "metadata": {},
     "output_type": "execute_result"
    }
   ],
   "source": [
    "df['year released'].iloc[982]"
   ]
  },
  {
   "cell_type": "code",
   "execution_count": 17,
   "id": "edadbe98",
   "metadata": {},
   "outputs": [],
   "source": [
    "for i in range(len(df['title'])):\n",
    "    if df['year released'].iloc[i] == 1975:\n",
    "        df['year released'].iloc[i] = 2011"
   ]
  },
  {
   "cell_type": "code",
   "execution_count": 8,
   "id": "cf4e0fb6",
   "metadata": {},
   "outputs": [
    {
     "data": {
      "text/html": [
       "<div>\n",
       "<style scoped>\n",
       "    .dataframe tbody tr th:only-of-type {\n",
       "        vertical-align: middle;\n",
       "    }\n",
       "\n",
       "    .dataframe tbody tr th {\n",
       "        vertical-align: top;\n",
       "    }\n",
       "\n",
       "    .dataframe thead th {\n",
       "        text-align: right;\n",
       "    }\n",
       "</style>\n",
       "<table border=\"1\" class=\"dataframe\">\n",
       "  <thead>\n",
       "    <tr style=\"text-align: right;\">\n",
       "      <th></th>\n",
       "      <th>title</th>\n",
       "      <th>artist</th>\n",
       "      <th>top genre</th>\n",
       "      <th>year released</th>\n",
       "      <th>added</th>\n",
       "      <th>bpm</th>\n",
       "      <th>nrgy</th>\n",
       "      <th>dnce</th>\n",
       "      <th>dB</th>\n",
       "      <th>live</th>\n",
       "      <th>val</th>\n",
       "      <th>dur</th>\n",
       "      <th>acous</th>\n",
       "      <th>spch</th>\n",
       "      <th>pop</th>\n",
       "      <th>top year</th>\n",
       "      <th>artist type</th>\n",
       "    </tr>\n",
       "  </thead>\n",
       "  <tbody>\n",
       "    <tr>\n",
       "      <th>69</th>\n",
       "      <td>Eenie Meenie</td>\n",
       "      <td>Sean Kingston</td>\n",
       "      <td>dance pop</td>\n",
       "      <td>2020.0</td>\n",
       "      <td>2022‑02‑17</td>\n",
       "      <td>121.0</td>\n",
       "      <td>64.0</td>\n",
       "      <td>73.0</td>\n",
       "      <td>-3.0</td>\n",
       "      <td>10.0</td>\n",
       "      <td>84.0</td>\n",
       "      <td>202.0</td>\n",
       "      <td>3.0</td>\n",
       "      <td>3.0</td>\n",
       "      <td>72.0</td>\n",
       "      <td>2010.0</td>\n",
       "      <td>Solo</td>\n",
       "    </tr>\n",
       "    <tr>\n",
       "      <th>98</th>\n",
       "      <td>We No Speak Americano (Edit)</td>\n",
       "      <td>Yolanda Be Cool</td>\n",
       "      <td>australian dance</td>\n",
       "      <td>2020.0</td>\n",
       "      <td>2022‑02‑17</td>\n",
       "      <td>125.0</td>\n",
       "      <td>81.0</td>\n",
       "      <td>90.0</td>\n",
       "      <td>-5.0</td>\n",
       "      <td>9.0</td>\n",
       "      <td>75.0</td>\n",
       "      <td>157.0</td>\n",
       "      <td>7.0</td>\n",
       "      <td>5.0</td>\n",
       "      <td>65.0</td>\n",
       "      <td>2010.0</td>\n",
       "      <td>Duo</td>\n",
       "    </tr>\n",
       "    <tr>\n",
       "      <th>651</th>\n",
       "      <td>Gold</td>\n",
       "      <td>Kiiara</td>\n",
       "      <td>alt z</td>\n",
       "      <td>2020.0</td>\n",
       "      <td>2020‑06‑08</td>\n",
       "      <td>113.0</td>\n",
       "      <td>41.0</td>\n",
       "      <td>60.0</td>\n",
       "      <td>-9.0</td>\n",
       "      <td>13.0</td>\n",
       "      <td>41.0</td>\n",
       "      <td>226.0</td>\n",
       "      <td>62.0</td>\n",
       "      <td>34.0</td>\n",
       "      <td>64.0</td>\n",
       "      <td>2016.0</td>\n",
       "      <td>Solo</td>\n",
       "    </tr>\n",
       "    <tr>\n",
       "      <th>901</th>\n",
       "      <td>Easier</td>\n",
       "      <td>5 Seconds of Summer</td>\n",
       "      <td>boy band</td>\n",
       "      <td>2020.0</td>\n",
       "      <td>2020‑06‑22</td>\n",
       "      <td>176.0</td>\n",
       "      <td>46.0</td>\n",
       "      <td>56.0</td>\n",
       "      <td>-4.0</td>\n",
       "      <td>11.0</td>\n",
       "      <td>62.0</td>\n",
       "      <td>158.0</td>\n",
       "      <td>48.0</td>\n",
       "      <td>26.0</td>\n",
       "      <td>74.0</td>\n",
       "      <td>2019.0</td>\n",
       "      <td>Band/Group</td>\n",
       "    </tr>\n",
       "    <tr>\n",
       "      <th>951</th>\n",
       "      <td>i'm so tired...</td>\n",
       "      <td>Lauv</td>\n",
       "      <td>dance pop</td>\n",
       "      <td>2020.0</td>\n",
       "      <td>2020‑06‑22</td>\n",
       "      <td>102.0</td>\n",
       "      <td>73.0</td>\n",
       "      <td>60.0</td>\n",
       "      <td>-7.0</td>\n",
       "      <td>24.0</td>\n",
       "      <td>53.0</td>\n",
       "      <td>163.0</td>\n",
       "      <td>18.0</td>\n",
       "      <td>20.0</td>\n",
       "      <td>81.0</td>\n",
       "      <td>2019.0</td>\n",
       "      <td>Solo</td>\n",
       "    </tr>\n",
       "    <tr>\n",
       "      <th>972</th>\n",
       "      <td>Options</td>\n",
       "      <td>NSG</td>\n",
       "      <td>afro dancehall</td>\n",
       "      <td>2020.0</td>\n",
       "      <td>2020‑08‑20</td>\n",
       "      <td>102.0</td>\n",
       "      <td>62.0</td>\n",
       "      <td>84.0</td>\n",
       "      <td>-5.0</td>\n",
       "      <td>10.0</td>\n",
       "      <td>76.0</td>\n",
       "      <td>240.0</td>\n",
       "      <td>39.0</td>\n",
       "      <td>9.0</td>\n",
       "      <td>62.0</td>\n",
       "      <td>2019.0</td>\n",
       "      <td>Band/Group</td>\n",
       "    </tr>\n",
       "  </tbody>\n",
       "</table>\n",
       "</div>"
      ],
      "text/plain": [
       "                            title               artist         top genre  \\\n",
       "69                   Eenie Meenie        Sean Kingston         dance pop   \n",
       "98   We No Speak Americano (Edit)      Yolanda Be Cool  australian dance   \n",
       "651                          Gold               Kiiara             alt z   \n",
       "901                        Easier  5 Seconds of Summer          boy band   \n",
       "951               i'm so tired...                 Lauv         dance pop   \n",
       "972                       Options                  NSG    afro dancehall   \n",
       "\n",
       "     year released       added    bpm  nrgy  dnce   dB  live   val    dur  \\\n",
       "69          2020.0  2022‑02‑17  121.0  64.0  73.0 -3.0  10.0  84.0  202.0   \n",
       "98          2020.0  2022‑02‑17  125.0  81.0  90.0 -5.0   9.0  75.0  157.0   \n",
       "651         2020.0  2020‑06‑08  113.0  41.0  60.0 -9.0  13.0  41.0  226.0   \n",
       "901         2020.0  2020‑06‑22  176.0  46.0  56.0 -4.0  11.0  62.0  158.0   \n",
       "951         2020.0  2020‑06‑22  102.0  73.0  60.0 -7.0  24.0  53.0  163.0   \n",
       "972         2020.0  2020‑08‑20  102.0  62.0  84.0 -5.0  10.0  76.0  240.0   \n",
       "\n",
       "     acous  spch   pop  top year artist type  \n",
       "69     3.0   3.0  72.0    2010.0        Solo  \n",
       "98     7.0   5.0  65.0    2010.0         Duo  \n",
       "651   62.0  34.0  64.0    2016.0        Solo  \n",
       "901   48.0  26.0  74.0    2019.0  Band/Group  \n",
       "951   18.0  20.0  81.0    2019.0        Solo  \n",
       "972   39.0   9.0  62.0    2019.0  Band/Group  "
      ]
     },
     "execution_count": 8,
     "metadata": {},
     "output_type": "execute_result"
    }
   ],
   "source": [
    "df[df['year released']==2020]"
   ]
  },
  {
   "cell_type": "code",
   "execution_count": 18,
   "id": "e9ff1d55",
   "metadata": {},
   "outputs": [],
   "source": [
    "for i in range(len(df['title'])):\n",
    "    if i == 69:\n",
    "        df['year released'].iloc[i]=2010\n",
    "    if i == 98:\n",
    "        df['year released'].iloc[i]=2010\n",
    "    if i == 651:\n",
    "        df['year released'].iloc[i]=2016\n",
    "    if i == 901:\n",
    "        df['year released'].iloc[i]=2019\n",
    "    if i == 951:\n",
    "        df['year released'].iloc[i]=2019\n",
    "    if i == 972:\n",
    "        df['year released'].iloc[i]=2019"
   ]
  },
  {
   "cell_type": "code",
   "execution_count": 19,
   "id": "ee31f409",
   "metadata": {},
   "outputs": [],
   "source": [
    "for i in range(len(df['title'])):\n",
    "    if i == 168:\n",
    "        df['year released'].iloc[i]=2011\n",
    "    if i == 182:\n",
    "        df['year released'].iloc[i]=2012\n",
    "    if i == 608:\n",
    "        df['year released'].iloc[i]=2019"
   ]
  },
  {
   "cell_type": "code",
   "execution_count": 20,
   "id": "629bbb7e",
   "metadata": {},
   "outputs": [
    {
     "data": {
      "text/plain": [
       "year released\n",
       "2009     24\n",
       "2010     96\n",
       "2011     95\n",
       "2012    110\n",
       "2013     86\n",
       "2014    101\n",
       "2015     99\n",
       "2016     87\n",
       "2017     99\n",
       "2018    112\n",
       "2019     90\n",
       "Name: year released, dtype: int64"
      ]
     },
     "execution_count": 20,
     "metadata": {},
     "output_type": "execute_result"
    }
   ],
   "source": [
    "df.groupby('year released')['year released'].count()"
   ]
  },
  {
   "cell_type": "code",
   "execution_count": 21,
   "id": "d0959741",
   "metadata": {},
   "outputs": [
    {
     "data": {
      "text/html": [
       "<div>\n",
       "<style scoped>\n",
       "    .dataframe tbody tr th:only-of-type {\n",
       "        vertical-align: middle;\n",
       "    }\n",
       "\n",
       "    .dataframe tbody tr th {\n",
       "        vertical-align: top;\n",
       "    }\n",
       "\n",
       "    .dataframe thead th {\n",
       "        text-align: right;\n",
       "    }\n",
       "</style>\n",
       "<table border=\"1\" class=\"dataframe\">\n",
       "  <thead>\n",
       "    <tr style=\"text-align: right;\">\n",
       "      <th></th>\n",
       "      <th>occurence</th>\n",
       "    </tr>\n",
       "    <tr>\n",
       "      <th>artist</th>\n",
       "      <th></th>\n",
       "    </tr>\n",
       "  </thead>\n",
       "  <tbody>\n",
       "    <tr>\n",
       "      <th>Taylor Swift</th>\n",
       "      <td>21</td>\n",
       "    </tr>\n",
       "    <tr>\n",
       "      <th>Drake</th>\n",
       "      <td>18</td>\n",
       "    </tr>\n",
       "    <tr>\n",
       "      <th>Calvin Harris</th>\n",
       "      <td>18</td>\n",
       "    </tr>\n",
       "    <tr>\n",
       "      <th>Ariana Grande</th>\n",
       "      <td>14</td>\n",
       "    </tr>\n",
       "    <tr>\n",
       "      <th>Rihanna</th>\n",
       "      <td>14</td>\n",
       "    </tr>\n",
       "    <tr>\n",
       "      <th>...</th>\n",
       "      <td>...</td>\n",
       "    </tr>\n",
       "    <tr>\n",
       "      <th>Milky Chance</th>\n",
       "      <td>1</td>\n",
       "    </tr>\n",
       "    <tr>\n",
       "      <th>Mr. Probz</th>\n",
       "      <td>1</td>\n",
       "    </tr>\n",
       "    <tr>\n",
       "      <th>Muse</th>\n",
       "      <td>1</td>\n",
       "    </tr>\n",
       "    <tr>\n",
       "      <th>Mustard</th>\n",
       "      <td>1</td>\n",
       "    </tr>\n",
       "    <tr>\n",
       "      <th>Lil Uzi Vert</th>\n",
       "      <td>1</td>\n",
       "    </tr>\n",
       "  </tbody>\n",
       "</table>\n",
       "<p>443 rows × 1 columns</p>\n",
       "</div>"
      ],
      "text/plain": [
       "               occurence\n",
       "artist                  \n",
       "Taylor Swift          21\n",
       "Drake                 18\n",
       "Calvin Harris         18\n",
       "Ariana Grande         14\n",
       "Rihanna               14\n",
       "...                  ...\n",
       "Milky Chance           1\n",
       "Mr. Probz              1\n",
       "Muse                   1\n",
       "Mustard                1\n",
       "Lil Uzi Vert           1\n",
       "\n",
       "[443 rows x 1 columns]"
      ]
     },
     "execution_count": 21,
     "metadata": {},
     "output_type": "execute_result"
    }
   ],
   "source": [
    "artist_with_most_hit_songs = pd.DataFrame()\n",
    "artist_with_most_hit_songs['occurence'] = df.groupby('artist')['artist'].count()\n",
    "artist_with_most_hit_songs.sort_values('occurence',ascending=False)"
   ]
  },
  {
   "cell_type": "markdown",
   "id": "f993396f",
   "metadata": {},
   "source": [
    "Top 5 are taylor swift, Drake, Calvin Harris, Ariana Grande, Rihanna."
   ]
  },
  {
   "cell_type": "markdown",
   "id": "60d81a04",
   "metadata": {},
   "source": [
    "## Top Genre"
   ]
  },
  {
   "cell_type": "code",
   "execution_count": 14,
   "id": "4d51ca10",
   "metadata": {},
   "outputs": [
    {
     "data": {
      "text/plain": [
       "top genre\n",
       "dance pop        361\n",
       "pop               57\n",
       "atl hip hop       39\n",
       "art pop           37\n",
       "hip hop           21\n",
       "                ... \n",
       "idol               1\n",
       "indie folk         1\n",
       "dark clubbing      1\n",
       "basshall           1\n",
       "acoustic pop       1\n",
       "Name: top genre, Length: 132, dtype: int64"
      ]
     },
     "execution_count": 14,
     "metadata": {},
     "output_type": "execute_result"
    }
   ],
   "source": [
    "df.groupby('top genre')['top genre'].count().sort_values(ascending=False)"
   ]
  },
  {
   "cell_type": "markdown",
   "id": "4b8792ae",
   "metadata": {},
   "source": [
    "## Indicators "
   ]
  },
  {
   "cell_type": "markdown",
   "id": "71e3d9d7",
   "metadata": {},
   "source": [
    "Based on an article by The Washington Post BPM plays a very critical role and we will use the data in this section to find that sweet spot."
   ]
  },
  {
   "cell_type": "code",
   "execution_count": 15,
   "id": "afa63871",
   "metadata": {},
   "outputs": [
    {
     "data": {
      "text/plain": [
       "563     206.0\n",
       "109     206.0\n",
       "898     204.0\n",
       "227     202.0\n",
       "969     202.0\n",
       "        ...  \n",
       "38       65.0\n",
       "896      65.0\n",
       "1000      NaN\n",
       "1001      NaN\n",
       "1002      NaN\n",
       "Name: bpm, Length: 1003, dtype: float64"
      ]
     },
     "execution_count": 15,
     "metadata": {},
     "output_type": "execute_result"
    }
   ],
   "source": [
    "df['bpm'].sort_values(ascending=False)"
   ]
  },
  {
   "cell_type": "code",
   "execution_count": 16,
   "id": "2b21ec7e",
   "metadata": {},
   "outputs": [
    {
     "data": {
      "text/plain": [
       "title            FourFiveSeconds\n",
       "artist                   Rihanna\n",
       "top genre          barbadian pop\n",
       "year released               2015\n",
       "added                 2020‑06‑19\n",
       "bpm                        206.0\n",
       "nrgy                        27.0\n",
       "dnce                        58.0\n",
       "dB                          -6.0\n",
       "live                        13.0\n",
       "val                         35.0\n",
       "dur                        188.0\n",
       "acous                       88.0\n",
       "spch                         5.0\n",
       "pop                         82.0\n",
       "top year                    2015\n",
       "artist type                 Solo\n",
       "Name: 563, dtype: object"
      ]
     },
     "execution_count": 16,
     "metadata": {},
     "output_type": "execute_result"
    }
   ],
   "source": [
    "df.iloc[563]"
   ]
  },
  {
   "cell_type": "markdown",
   "id": "59343a22",
   "metadata": {},
   "source": [
    "### Most energetic song"
   ]
  },
  {
   "cell_type": "code",
   "execution_count": 17,
   "id": "74124def",
   "metadata": {},
   "outputs": [
    {
     "data": {
      "text/plain": [
       "312     98.0\n",
       "70      98.0\n",
       "284     97.0\n",
       "254     97.0\n",
       "88      97.0\n",
       "        ... \n",
       "916     11.0\n",
       "675      6.0\n",
       "1000     NaN\n",
       "1001     NaN\n",
       "1002     NaN\n",
       "Name: nrgy, Length: 1003, dtype: float64"
      ]
     },
     "execution_count": 17,
     "metadata": {},
     "output_type": "execute_result"
    }
   ],
   "source": [
    "df['nrgy'].sort_values(ascending=False)"
   ]
  },
  {
   "cell_type": "code",
   "execution_count": 18,
   "id": "231eec2d",
   "metadata": {
    "scrolled": true
   },
   "outputs": [
    {
     "data": {
      "text/html": [
       "<div>\n",
       "<style scoped>\n",
       "    .dataframe tbody tr th:only-of-type {\n",
       "        vertical-align: middle;\n",
       "    }\n",
       "\n",
       "    .dataframe tbody tr th {\n",
       "        vertical-align: top;\n",
       "    }\n",
       "\n",
       "    .dataframe thead th {\n",
       "        text-align: right;\n",
       "    }\n",
       "</style>\n",
       "<table border=\"1\" class=\"dataframe\">\n",
       "  <thead>\n",
       "    <tr style=\"text-align: right;\">\n",
       "      <th></th>\n",
       "      <th>title</th>\n",
       "      <th>artist</th>\n",
       "      <th>top genre</th>\n",
       "      <th>year released</th>\n",
       "      <th>added</th>\n",
       "      <th>bpm</th>\n",
       "      <th>nrgy</th>\n",
       "      <th>dnce</th>\n",
       "      <th>dB</th>\n",
       "      <th>live</th>\n",
       "      <th>val</th>\n",
       "      <th>dur</th>\n",
       "      <th>acous</th>\n",
       "      <th>spch</th>\n",
       "      <th>pop</th>\n",
       "      <th>top year</th>\n",
       "      <th>artist type</th>\n",
       "    </tr>\n",
       "  </thead>\n",
       "  <tbody>\n",
       "    <tr>\n",
       "      <th>70</th>\n",
       "      <td>Riverside</td>\n",
       "      <td>Sidney Samson</td>\n",
       "      <td>dutch house</td>\n",
       "      <td>2009</td>\n",
       "      <td>2022‑02‑17</td>\n",
       "      <td>126.0</td>\n",
       "      <td>98.0</td>\n",
       "      <td>80.0</td>\n",
       "      <td>-2.0</td>\n",
       "      <td>13.0</td>\n",
       "      <td>29.0</td>\n",
       "      <td>321.0</td>\n",
       "      <td>0.0</td>\n",
       "      <td>5.0</td>\n",
       "      <td>42.0</td>\n",
       "      <td>2010</td>\n",
       "      <td>Solo</td>\n",
       "    </tr>\n",
       "    <tr>\n",
       "      <th>312</th>\n",
       "      <td>Get Up (Rattle)</td>\n",
       "      <td>Bingo Players</td>\n",
       "      <td>big room</td>\n",
       "      <td>2013</td>\n",
       "      <td>2020‑06‑11</td>\n",
       "      <td>128.0</td>\n",
       "      <td>98.0</td>\n",
       "      <td>80.0</td>\n",
       "      <td>-3.0</td>\n",
       "      <td>26.0</td>\n",
       "      <td>80.0</td>\n",
       "      <td>167.0</td>\n",
       "      <td>2.0</td>\n",
       "      <td>7.0</td>\n",
       "      <td>61.0</td>\n",
       "      <td>2013</td>\n",
       "      <td>Duo</td>\n",
       "    </tr>\n",
       "  </tbody>\n",
       "</table>\n",
       "</div>"
      ],
      "text/plain": [
       "               title         artist    top genre  year released       added  \\\n",
       "70         Riverside  Sidney Samson  dutch house           2009  2022‑02‑17   \n",
       "312  Get Up (Rattle)  Bingo Players     big room           2013  2020‑06‑11   \n",
       "\n",
       "       bpm  nrgy  dnce   dB  live   val    dur  acous  spch   pop  top year  \\\n",
       "70   126.0  98.0  80.0 -2.0  13.0  29.0  321.0    0.0   5.0  42.0      2010   \n",
       "312  128.0  98.0  80.0 -3.0  26.0  80.0  167.0    2.0   7.0  61.0      2013   \n",
       "\n",
       "    artist type  \n",
       "70         Solo  \n",
       "312         Duo  "
      ]
     },
     "execution_count": 18,
     "metadata": {},
     "output_type": "execute_result"
    }
   ],
   "source": [
    "df.iloc[[70,312]]"
   ]
  },
  {
   "cell_type": "markdown",
   "id": "f00f614e",
   "metadata": {},
   "source": [
    "### Most danceable"
   ]
  },
  {
   "cell_type": "code",
   "execution_count": 19,
   "id": "ae91e1c5",
   "metadata": {},
   "outputs": [
    {
     "data": {
      "text/plain": [
       "461     96.0\n",
       "856     96.0\n",
       "923     95.0\n",
       "750     94.0\n",
       "705     94.0\n",
       "        ... \n",
       "521     26.0\n",
       "355     19.0\n",
       "1000     NaN\n",
       "1001     NaN\n",
       "1002     NaN\n",
       "Name: dnce, Length: 1003, dtype: float64"
      ]
     },
     "execution_count": 19,
     "metadata": {},
     "output_type": "execute_result"
    }
   ],
   "source": [
    "df['dnce'].sort_values(ascending=False)"
   ]
  },
  {
   "cell_type": "code",
   "execution_count": 20,
   "id": "1ea928f5",
   "metadata": {},
   "outputs": [
    {
     "data": {
      "text/html": [
       "<div>\n",
       "<style scoped>\n",
       "    .dataframe tbody tr th:only-of-type {\n",
       "        vertical-align: middle;\n",
       "    }\n",
       "\n",
       "    .dataframe tbody tr th {\n",
       "        vertical-align: top;\n",
       "    }\n",
       "\n",
       "    .dataframe thead th {\n",
       "        text-align: right;\n",
       "    }\n",
       "</style>\n",
       "<table border=\"1\" class=\"dataframe\">\n",
       "  <thead>\n",
       "    <tr style=\"text-align: right;\">\n",
       "      <th></th>\n",
       "      <th>title</th>\n",
       "      <th>artist</th>\n",
       "      <th>top genre</th>\n",
       "      <th>year released</th>\n",
       "      <th>added</th>\n",
       "      <th>bpm</th>\n",
       "      <th>nrgy</th>\n",
       "      <th>dnce</th>\n",
       "      <th>dB</th>\n",
       "      <th>live</th>\n",
       "      <th>val</th>\n",
       "      <th>dur</th>\n",
       "      <th>acous</th>\n",
       "      <th>spch</th>\n",
       "      <th>pop</th>\n",
       "      <th>top year</th>\n",
       "      <th>artist type</th>\n",
       "    </tr>\n",
       "  </thead>\n",
       "  <tbody>\n",
       "    <tr>\n",
       "      <th>461</th>\n",
       "      <td>Anaconda</td>\n",
       "      <td>Nicki Minaj</td>\n",
       "      <td>dance pop</td>\n",
       "      <td>2014</td>\n",
       "      <td>2020‑06‑10</td>\n",
       "      <td>130.0</td>\n",
       "      <td>61.0</td>\n",
       "      <td>96.0</td>\n",
       "      <td>-6.0</td>\n",
       "      <td>21.0</td>\n",
       "      <td>65.0</td>\n",
       "      <td>260.0</td>\n",
       "      <td>7.0</td>\n",
       "      <td>18.0</td>\n",
       "      <td>70.0</td>\n",
       "      <td>2014</td>\n",
       "      <td>Solo</td>\n",
       "    </tr>\n",
       "    <tr>\n",
       "      <th>856</th>\n",
       "      <td>Yes Indeed</td>\n",
       "      <td>Lil Baby</td>\n",
       "      <td>atl hip hop</td>\n",
       "      <td>2018</td>\n",
       "      <td>2020‑06‑22</td>\n",
       "      <td>120.0</td>\n",
       "      <td>35.0</td>\n",
       "      <td>96.0</td>\n",
       "      <td>-9.0</td>\n",
       "      <td>11.0</td>\n",
       "      <td>56.0</td>\n",
       "      <td>142.0</td>\n",
       "      <td>4.0</td>\n",
       "      <td>53.0</td>\n",
       "      <td>84.0</td>\n",
       "      <td>2018</td>\n",
       "      <td>Solo</td>\n",
       "    </tr>\n",
       "  </tbody>\n",
       "</table>\n",
       "</div>"
      ],
      "text/plain": [
       "          title       artist    top genre  year released       added    bpm  \\\n",
       "461    Anaconda  Nicki Minaj    dance pop           2014  2020‑06‑10  130.0   \n",
       "856  Yes Indeed     Lil Baby  atl hip hop           2018  2020‑06‑22  120.0   \n",
       "\n",
       "     nrgy  dnce   dB  live   val    dur  acous  spch   pop  top year  \\\n",
       "461  61.0  96.0 -6.0  21.0  65.0  260.0    7.0  18.0  70.0      2014   \n",
       "856  35.0  96.0 -9.0  11.0  56.0  142.0    4.0  53.0  84.0      2018   \n",
       "\n",
       "    artist type  \n",
       "461        Solo  \n",
       "856        Solo  "
      ]
     },
     "execution_count": 20,
     "metadata": {},
     "output_type": "execute_result"
    }
   ],
   "source": [
    "df.iloc[[461,856]]"
   ]
  },
  {
   "cell_type": "markdown",
   "id": "5b5c9898",
   "metadata": {},
   "source": [
    "### Shortest and Longest songs"
   ]
  },
  {
   "cell_type": "code",
   "execution_count": 21,
   "id": "30d61179",
   "metadata": {},
   "outputs": [
    {
     "data": {
      "text/plain": [
       "955     113.0\n",
       "956     115.0\n",
       "795     119.0\n",
       "896     122.0\n",
       "750     124.0\n",
       "        ...  \n",
       "350     484.0\n",
       "443     688.0\n",
       "1000      NaN\n",
       "1001      NaN\n",
       "1002      NaN\n",
       "Name: dur, Length: 1003, dtype: float64"
      ]
     },
     "execution_count": 21,
     "metadata": {},
     "output_type": "execute_result"
    }
   ],
   "source": [
    "df['dur'].sort_values()"
   ]
  },
  {
   "cell_type": "code",
   "execution_count": 22,
   "id": "4ce47cff",
   "metadata": {},
   "outputs": [
    {
     "data": {
      "text/html": [
       "<div>\n",
       "<style scoped>\n",
       "    .dataframe tbody tr th:only-of-type {\n",
       "        vertical-align: middle;\n",
       "    }\n",
       "\n",
       "    .dataframe tbody tr th {\n",
       "        vertical-align: top;\n",
       "    }\n",
       "\n",
       "    .dataframe thead th {\n",
       "        text-align: right;\n",
       "    }\n",
       "</style>\n",
       "<table border=\"1\" class=\"dataframe\">\n",
       "  <thead>\n",
       "    <tr style=\"text-align: right;\">\n",
       "      <th></th>\n",
       "      <th>title</th>\n",
       "      <th>artist</th>\n",
       "      <th>top genre</th>\n",
       "      <th>year released</th>\n",
       "      <th>added</th>\n",
       "      <th>bpm</th>\n",
       "      <th>nrgy</th>\n",
       "      <th>dnce</th>\n",
       "      <th>dB</th>\n",
       "      <th>live</th>\n",
       "      <th>val</th>\n",
       "      <th>dur</th>\n",
       "      <th>acous</th>\n",
       "      <th>spch</th>\n",
       "      <th>pop</th>\n",
       "      <th>top year</th>\n",
       "      <th>artist type</th>\n",
       "    </tr>\n",
       "  </thead>\n",
       "  <tbody>\n",
       "    <tr>\n",
       "      <th>955</th>\n",
       "      <td>Old Town Road</td>\n",
       "      <td>Lil Nas X</td>\n",
       "      <td>lgbtq+ hip hop</td>\n",
       "      <td>2019</td>\n",
       "      <td>2020‑06‑22</td>\n",
       "      <td>136.0</td>\n",
       "      <td>53.0</td>\n",
       "      <td>91.0</td>\n",
       "      <td>-6.0</td>\n",
       "      <td>10.0</td>\n",
       "      <td>51.0</td>\n",
       "      <td>113.0</td>\n",
       "      <td>6.0</td>\n",
       "      <td>13.0</td>\n",
       "      <td>80.0</td>\n",
       "      <td>2019</td>\n",
       "      <td>Solo</td>\n",
       "    </tr>\n",
       "    <tr>\n",
       "      <th>443</th>\n",
       "      <td>Not a Bad Thing</td>\n",
       "      <td>Justin Timberlake</td>\n",
       "      <td>dance pop</td>\n",
       "      <td>2013</td>\n",
       "      <td>2020‑06‑10</td>\n",
       "      <td>86.0</td>\n",
       "      <td>56.0</td>\n",
       "      <td>31.0</td>\n",
       "      <td>-9.0</td>\n",
       "      <td>13.0</td>\n",
       "      <td>11.0</td>\n",
       "      <td>688.0</td>\n",
       "      <td>53.0</td>\n",
       "      <td>7.0</td>\n",
       "      <td>61.0</td>\n",
       "      <td>2014</td>\n",
       "      <td>Solo</td>\n",
       "    </tr>\n",
       "  </tbody>\n",
       "</table>\n",
       "</div>"
      ],
      "text/plain": [
       "               title             artist       top genre  year released  \\\n",
       "955    Old Town Road          Lil Nas X  lgbtq+ hip hop           2019   \n",
       "443  Not a Bad Thing  Justin Timberlake       dance pop           2013   \n",
       "\n",
       "          added    bpm  nrgy  dnce   dB  live   val    dur  acous  spch   pop  \\\n",
       "955  2020‑06‑22  136.0  53.0  91.0 -6.0  10.0  51.0  113.0    6.0  13.0  80.0   \n",
       "443  2020‑06‑10   86.0  56.0  31.0 -9.0  13.0  11.0  688.0   53.0   7.0  61.0   \n",
       "\n",
       "     top year artist type  \n",
       "955      2019        Solo  \n",
       "443      2014        Solo  "
      ]
     },
     "execution_count": 22,
     "metadata": {},
     "output_type": "execute_result"
    }
   ],
   "source": [
    "df.iloc[[955,443]]"
   ]
  },
  {
   "cell_type": "code",
   "execution_count": null,
   "id": "45b274b5",
   "metadata": {},
   "outputs": [],
   "source": []
  }
 ],
 "metadata": {
  "kernelspec": {
   "display_name": "Python 3",
   "language": "python",
   "name": "python3"
  },
  "language_info": {
   "codemirror_mode": {
    "name": "ipython",
    "version": 3
   },
   "file_extension": ".py",
   "mimetype": "text/x-python",
   "name": "python",
   "nbconvert_exporter": "python",
   "pygments_lexer": "ipython3",
   "version": "3.8.8"
  }
 },
 "nbformat": 4,
 "nbformat_minor": 5
}
